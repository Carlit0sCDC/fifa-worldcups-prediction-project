{
 "cells": [
  {
   "cell_type": "code",
   "execution_count": 1,
   "metadata": {},
   "outputs": [],
   "source": [
    "import pandas as pd"
   ]
  },
  {
   "cell_type": "markdown",
   "metadata": {},
   "source": [
    "Limpieza de los datos"
   ]
  },
  {
   "cell_type": "code",
   "execution_count": 2,
   "metadata": {},
   "outputs": [],
   "source": [
    "df_historico = pd.read_csv('datos/fifa_worldcup_matches.csv')\n",
    "df_fixture = pd.read_csv('datos/fifa_worldcup_fixture.csv')\n",
    "df_faltante = pd.read_csv('datos/fifa_worldcup_missing_data.csv')"
   ]
  },
  {
   "cell_type": "code",
   "execution_count": 3,
   "metadata": {},
   "outputs": [],
   "source": [
    "df_fixture['home'] = df_fixture['home'].str.strip()\n",
    "df_fixture['away'] = df_fixture['away'].str.strip()"
   ]
  },
  {
   "cell_type": "markdown",
   "metadata": {},
   "source": [
    "Limpieza de la data faltante y posteriormente agregarla al df de data histórica"
   ]
  },
  {
   "cell_type": "code",
   "execution_count": 4,
   "metadata": {},
   "outputs": [],
   "source": [
    "#eliminamos nulos\n",
    "df_faltante.dropna(inplace = True)"
   ]
  },
  {
   "cell_type": "code",
   "execution_count": 5,
   "metadata": {},
   "outputs": [],
   "source": [
    "#acoplamos los dataframes\n",
    "df_historico_completo = pd.concat([df_historico, df_faltante], ignore_index = True)"
   ]
  },
  {
   "cell_type": "code",
   "execution_count": 6,
   "metadata": {},
   "outputs": [],
   "source": [
    "#eliminamos duplicados\n",
    "df_historico_completo.drop_duplicates(inplace = True)\n",
    "#ordenamos el dataframe por el año\n",
    "df_historico_completo.sort_values('year', inplace = True)"
   ]
  },
  {
   "cell_type": "markdown",
   "metadata": {},
   "source": [
    "Limpieza del dataframe completo"
   ]
  },
  {
   "cell_type": "code",
   "execution_count": 7,
   "metadata": {},
   "outputs": [],
   "source": [
    "#eliminamos datos no numericos del fixture\n",
    "index_partido = df_historico_completo[df_historico_completo['home'].str.contains('Sweden') &\n",
    "                                      df_historico_completo['away'].str.contains('Austria')].index\n",
    "\n",
    "df_historico_completo.drop(index = index_partido, inplace = True)"
   ]
  },
  {
   "cell_type": "code",
   "execution_count": 8,
   "metadata": {},
   "outputs": [],
   "source": [
    "#eliminamos datos que no sean una barra o un numero decimal dentro de la columna score\n",
    "df_historico_completo['score'] = df_historico_completo['score'].str.replace('[^\\d–]', '', regex = True)"
   ]
  },
  {
   "cell_type": "code",
   "execution_count": 9,
   "metadata": {},
   "outputs": [
    {
     "data": {
      "text/html": [
       "<div>\n",
       "<style scoped>\n",
       "    .dataframe tbody tr th:only-of-type {\n",
       "        vertical-align: middle;\n",
       "    }\n",
       "\n",
       "    .dataframe tbody tr th {\n",
       "        vertical-align: top;\n",
       "    }\n",
       "\n",
       "    .dataframe thead th {\n",
       "        text-align: right;\n",
       "    }\n",
       "</style>\n",
       "<table border=\"1\" class=\"dataframe\">\n",
       "  <thead>\n",
       "    <tr style=\"text-align: right;\">\n",
       "      <th></th>\n",
       "      <th>home</th>\n",
       "      <th>score</th>\n",
       "      <th>away</th>\n",
       "      <th>year</th>\n",
       "    </tr>\n",
       "  </thead>\n",
       "  <tbody>\n",
       "  </tbody>\n",
       "</table>\n",
       "</div>"
      ],
      "text/plain": [
       "Empty DataFrame\n",
       "Columns: [home, score, away, year]\n",
       "Index: []"
      ]
     },
     "execution_count": 9,
     "metadata": {},
     "output_type": "execute_result"
    }
   ],
   "source": [
    "#verificamos el procedimiento anterior\n",
    "df_historico_completo[df_historico_completo['score'].str.contains('[^\\d–]')]"
   ]
  },
  {
   "cell_type": "code",
   "execution_count": 10,
   "metadata": {},
   "outputs": [],
   "source": [
    "#quitamos espacios vacios del dataframe completo\n",
    "df_historico_completo['home'] = df_historico_completo['home'].str.strip()\n",
    "df_historico_completo['away'] = df_historico_completo['away'].str.strip()"
   ]
  },
  {
   "cell_type": "code",
   "execution_count": 11,
   "metadata": {},
   "outputs": [],
   "source": [
    "#separamos la columna score en dos columnas distintas\n",
    "df_historico_completo[['goles_local','goles_visitante']] = df_historico_completo['score'].str.split('–', expand = True)\n",
    "#dropeamos la columna score\n",
    "df_historico_completo.drop('score', axis = 1, inplace = True)"
   ]
  },
  {
   "cell_type": "code",
   "execution_count": 15,
   "metadata": {},
   "outputs": [],
   "source": [
    "#renombramos las columnas\n",
    "df_historico_completo.rename(columns = {'home': 'Local', 'away': 'Visitante',\n",
    "                                         'year': 'Año'} , inplace = True)"
   ]
  },
  {
   "cell_type": "code",
   "execution_count": 23,
   "metadata": {},
   "outputs": [],
   "source": [
    "#cambiamos los tipos de columnas necesarias\n",
    "df_historico_completo = df_historico_completo.astype({'goles_local': int,\n",
    "                                                       'goles_visitante': int})"
   ]
  },
  {
   "cell_type": "code",
   "execution_count": 25,
   "metadata": {},
   "outputs": [],
   "source": [
    "#creamos una columna con informacion relevante\n",
    "df_historico_completo['goles_por_partido'] = df_historico_completo['goles_local'] + df_historico_completo['goles_visitante']"
   ]
  },
  {
   "cell_type": "markdown",
   "metadata": {},
   "source": [
    "Por ultimo, exportamos los dataframes pasados por el proceso de limpieza y normalizacion"
   ]
  },
  {
   "cell_type": "code",
   "execution_count": 27,
   "metadata": {},
   "outputs": [],
   "source": [
    "df_historico_completo.to_csv('clean_fifa_worldcup_matches.csv' ,index = False)\n",
    "df_fixture.to_csv('clean_fifa_worldcup_fixture.csv' ,index = False)"
   ]
  }
 ],
 "metadata": {
  "kernelspec": {
   "display_name": "Python 3",
   "language": "python",
   "name": "python3"
  },
  "language_info": {
   "codemirror_mode": {
    "name": "ipython",
    "version": 3
   },
   "file_extension": ".py",
   "mimetype": "text/x-python",
   "name": "python",
   "nbconvert_exporter": "python",
   "pygments_lexer": "ipython3",
   "version": "3.11.7"
  }
 },
 "nbformat": 4,
 "nbformat_minor": 2
}
